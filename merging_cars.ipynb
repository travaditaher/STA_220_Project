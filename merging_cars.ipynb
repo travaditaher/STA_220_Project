{
  "nbformat": 4,
  "nbformat_minor": 0,
  "metadata": {
    "colab": {
      "provenance": []
    },
    "kernelspec": {
      "name": "python3",
      "display_name": "Python 3"
    },
    "language_info": {
      "name": "python"
    }
  },
  "cells": [
    {
      "cell_type": "code",
      "execution_count": 8,
      "metadata": {
        "colab": {
          "base_uri": "https://localhost:8080/"
        },
        "id": "vPZ5CaLa-elG",
        "outputId": "e037172b-2398-4700-cf8d-fc8ec90abb98"
      },
      "outputs": [
        {
          "output_type": "stream",
          "name": "stdout",
          "text": [
            "Total entries for VIN: 48464\n",
            "Unique entries for VIN: 45920\n"
          ]
        }
      ],
      "source": [
        "import pandas as pd\n",
        "import os\n",
        "\n",
        "df1 = pd.read_csv('/content/GA_TrueCar_details.csv')\n",
        "df2 = pd.read_csv('/content/OR_TrueCar_details.csv')\n",
        "df3 = pd.read_csv('/content/MA_TrueCar_details.csv')\n",
        "df4 = pd.read_csv('/content/CA_TrueCar_details.csv')\n",
        "df5 = pd.read_csv('/content/FL_TrueCar_details.csv')\n",
        "df6 = pd.read_csv('/content/TX_TrueCar_details.csv')\n",
        "\n",
        "merged_df = pd.concat([df1, df2, df3, df4, df5, df6], ignore_index=True)\n",
        "\n",
        "cleaned_df = merged_df.drop_duplicates(subset='VIN', keep='first')\n",
        "\n",
        "cleaned_df.to_csv('TrueCars_data.csv', index=False)\n",
        "\n",
        "total_entries = merged_df['VIN'].count()\n",
        "unique_entries = cleaned_df['VIN'].count()\n",
        "\n",
        "print(f\"Total entries for VIN: {total_entries}\")\n",
        "print(f\"Unique entries for VIN: {unique_entries}\")"
      ]
    },
    {
      "cell_type": "code",
      "source": [
        "from google.colab import files\n",
        "files.download(\"TrueCars_data.csv\")"
      ],
      "metadata": {
        "colab": {
          "base_uri": "https://localhost:8080/",
          "height": 17
        },
        "id": "J3ne2esCF5Co",
        "outputId": "61b982f4-5066-44a9-a18c-289c4dec5e6c"
      },
      "execution_count": 9,
      "outputs": [
        {
          "output_type": "display_data",
          "data": {
            "text/plain": [
              "<IPython.core.display.Javascript object>"
            ],
            "application/javascript": [
              "\n",
              "    async function download(id, filename, size) {\n",
              "      if (!google.colab.kernel.accessAllowed) {\n",
              "        return;\n",
              "      }\n",
              "      const div = document.createElement('div');\n",
              "      const label = document.createElement('label');\n",
              "      label.textContent = `Downloading \"${filename}\": `;\n",
              "      div.appendChild(label);\n",
              "      const progress = document.createElement('progress');\n",
              "      progress.max = size;\n",
              "      div.appendChild(progress);\n",
              "      document.body.appendChild(div);\n",
              "\n",
              "      const buffers = [];\n",
              "      let downloaded = 0;\n",
              "\n",
              "      const channel = await google.colab.kernel.comms.open(id);\n",
              "      // Send a message to notify the kernel that we're ready.\n",
              "      channel.send({})\n",
              "\n",
              "      for await (const message of channel.messages) {\n",
              "        // Send a message to notify the kernel that we're ready.\n",
              "        channel.send({})\n",
              "        if (message.buffers) {\n",
              "          for (const buffer of message.buffers) {\n",
              "            buffers.push(buffer);\n",
              "            downloaded += buffer.byteLength;\n",
              "            progress.value = downloaded;\n",
              "          }\n",
              "        }\n",
              "      }\n",
              "      const blob = new Blob(buffers, {type: 'application/binary'});\n",
              "      const a = document.createElement('a');\n",
              "      a.href = window.URL.createObjectURL(blob);\n",
              "      a.download = filename;\n",
              "      div.appendChild(a);\n",
              "      a.click();\n",
              "      div.remove();\n",
              "    }\n",
              "  "
            ]
          },
          "metadata": {}
        },
        {
          "output_type": "display_data",
          "data": {
            "text/plain": [
              "<IPython.core.display.Javascript object>"
            ],
            "application/javascript": [
              "download(\"download_a65e18c1-ecf6-4f15-98ab-267393eddbd1\", \"TrueCars_data.csv\", 19849426)"
            ]
          },
          "metadata": {}
        }
      ]
    },
    {
      "cell_type": "code",
      "source": [
        "# import pandas as pd\n",
        "# import re\n",
        "# import requests\n",
        "# from time import sleep\n",
        "\n",
        "# state_mapping = {\n",
        "#     'FL': 'Florida',\n",
        "#     'GA': 'Georgia',\n",
        "#     'CA': 'California',\n",
        "#     'OR': 'Oregon',\n",
        "#     'TX': 'Texas',\n",
        "#     'MA': 'Massachusetts',\n",
        "# }\n",
        "\n",
        "# df = pd.read_csv('/content/TrueCars_data.csv')\n",
        "\n",
        "# def clean_location(location):\n",
        "#     cleaned_location = re.sub(r'\\s\\(\\d+ miles away\\)', '', location)\n",
        "\n",
        "#     city_state = cleaned_location.split(',')\n",
        "\n",
        "#     if len(city_state) == 2:\n",
        "#         city = city_state[0].strip().lower().replace(\" \", \"+\")\n",
        "#         state = city_state[1].strip().upper()\n",
        "\n",
        "#         state_name = state_mapping.get(state, state)\n",
        "#         state_name = state_name.lower().replace(\" \", \"+\")\n",
        "\n",
        "#         return city, state_name\n",
        "#     else:\n",
        "#         return None, None\n",
        "\n",
        "# df['City'], df['State'] = zip(*df['Location'].apply(clean_location))\n",
        "\n",
        "# df = df.dropna(subset=['City', 'State'])\n",
        "\n",
        "# unique_locations = df['City'].unique()\n",
        "# print(\"Unique Locations:\", unique_locations)\n",
        "\n",
        "# def get_lat_lon(city, state):\n",
        "#     headers = {'User-Agent': 'Mozilla/5.0 (Windows NT 10.0; Win64; x64) AppleWebKit/537.36 (KHTML, like Gecko) Chrome/58.0.3029.11'}\n",
        "#     url = f\"https://nominatim.openstreetmap.org/search?city={city}&state={state}&country=united+states&limit=1&format=json\"\n",
        "#     response = requests.get(url, headers=headers).json()\n",
        "\n",
        "#     if response:\n",
        "#         lat = response[0]['lat']\n",
        "#         lon = response[0]['lon']\n",
        "#         return lat, lon\n",
        "#     else:\n",
        "#         return None, None\n",
        "\n",
        "# latitudes = []\n",
        "# longitudes = []\n",
        "\n",
        "# for city, state in zip(df['City'], df['State']):\n",
        "#     lat, lon = get_lat_lon(city, state)\n",
        "#     latitudes.append(lat)\n",
        "#     longitudes.append(lon)\n",
        "#     sleep(1)\n",
        "\n",
        "# df['Latitude'] = latitudes\n",
        "# df['Longitude'] = longitudes\n",
        "\n",
        "# print(df[['Location', 'Latitude', 'Longitude']])\n"
      ],
      "metadata": {
        "colab": {
          "base_uri": "https://localhost:8080/",
          "height": 228
        },
        "id": "u7tQ6KgEv0sR",
        "outputId": "3af50d8b-97c0-4dfb-ae76-c6ef2c597e8e"
      },
      "execution_count": 10,
      "outputs": [
        {
          "output_type": "stream",
          "name": "stdout",
          "text": [
            "Unique Locations: ['sanford' 'hoover' 'kennesaw' ... 'la+vernia' 'federal+heights' 'forney']\n"
          ]
        },
        {
          "output_type": "error",
          "ename": "KeyboardInterrupt",
          "evalue": "",
          "traceback": [
            "\u001b[0;31m---------------------------------------------------------------------------\u001b[0m",
            "\u001b[0;31mKeyboardInterrupt\u001b[0m                         Traceback (most recent call last)",
            "\u001b[0;32m<ipython-input-10-d329de6a90e7>\u001b[0m in \u001b[0;36m<cell line: 0>\u001b[0;34m()\u001b[0m\n\u001b[1;32m     57\u001b[0m     \u001b[0mlatitudes\u001b[0m\u001b[0;34m.\u001b[0m\u001b[0mappend\u001b[0m\u001b[0;34m(\u001b[0m\u001b[0mlat\u001b[0m\u001b[0;34m)\u001b[0m\u001b[0;34m\u001b[0m\u001b[0;34m\u001b[0m\u001b[0m\n\u001b[1;32m     58\u001b[0m     \u001b[0mlongitudes\u001b[0m\u001b[0;34m.\u001b[0m\u001b[0mappend\u001b[0m\u001b[0;34m(\u001b[0m\u001b[0mlon\u001b[0m\u001b[0;34m)\u001b[0m\u001b[0;34m\u001b[0m\u001b[0;34m\u001b[0m\u001b[0m\n\u001b[0;32m---> 59\u001b[0;31m     \u001b[0msleep\u001b[0m\u001b[0;34m(\u001b[0m\u001b[0;36m1\u001b[0m\u001b[0;34m)\u001b[0m\u001b[0;34m\u001b[0m\u001b[0;34m\u001b[0m\u001b[0m\n\u001b[0m\u001b[1;32m     60\u001b[0m \u001b[0;34m\u001b[0m\u001b[0m\n\u001b[1;32m     61\u001b[0m \u001b[0mdf\u001b[0m\u001b[0;34m[\u001b[0m\u001b[0;34m'Latitude'\u001b[0m\u001b[0;34m]\u001b[0m \u001b[0;34m=\u001b[0m \u001b[0mlatitudes\u001b[0m\u001b[0;34m\u001b[0m\u001b[0;34m\u001b[0m\u001b[0m\n",
            "\u001b[0;31mKeyboardInterrupt\u001b[0m: "
          ]
        }
      ]
    },
    {
      "cell_type": "code",
      "source": [
        "# import folium\n",
        "\n",
        "# m = folium.Map(location=[39.8283, -98.5795], zoom_start=4)\n",
        "\n",
        "# for _, row in df.iterrows():\n",
        "#     if row['Latitude'] and row['Longitude']:\n",
        "#         folium.Marker(\n",
        "#             location=[row['Latitude'], row['Longitude']],\n",
        "#             popup=folium.Popup(f\"City: {row['Location']}\", parse_html=True),\n",
        "#             tooltip=row['Location']\n",
        "#         ).add_to(m)\n",
        "\n",
        "# m.save(\"interactive_map.html\")\n",
        "\n",
        "# print(\"Map has been saved as 'interactive_map.html'. You can open it in your browser.\")\n"
      ],
      "metadata": {
        "colab": {
          "base_uri": "https://localhost:8080/"
        },
        "id": "zn0DYpvzAgIY",
        "outputId": "d010ee2f-132d-442a-bf2a-ff5b6087840d"
      },
      "execution_count": 11,
      "outputs": [
        {
          "output_type": "stream",
          "name": "stdout",
          "text": [
            "Map has been saved as 'interactive_map.html'. You can open it in your browser.\n"
          ]
        }
      ]
    },
    {
      "cell_type": "code",
      "source": [
        "import pandas as pd\n",
        "import re\n",
        "import requests\n",
        "from time import sleep\n",
        "import folium\n",
        "\n",
        "state_mapping = {\n",
        "    'FL': 'Florida',\n",
        "    'GA': 'Georgia',\n",
        "    'CA': 'California',\n",
        "    'OR': 'Oregon',\n",
        "    'TX': 'Texas',\n",
        "    'MA': 'Massachusetts',\n",
        "}\n",
        "\n",
        "df = pd.read_csv('/content/TrueCars_data.csv')\n",
        "\n",
        "def clean_location(location):\n",
        "\n",
        "    cleaned_location = re.sub(r'\\s\\(\\d+ miles away\\)', '', location)\n",
        "\n",
        "\n",
        "    city_state = cleaned_location.split(',')\n",
        "\n",
        "    if len(city_state) == 2:\n",
        "        city = city_state[0].strip().lower().replace(\" \", \"+\")\n",
        "        state = city_state[1].strip().upper()\n",
        "\n",
        "        state_name = state_mapping.get(state, state)\n",
        "        state_name = state_name.lower().replace(\" \", \"+\")\n",
        "\n",
        "        return city, state_name\n",
        "    else:\n",
        "        return None, None\n",
        "\n",
        "df['City'], df['State'] = zip(*df['Location'].apply(lambda x: clean_location(x)))\n",
        "\n",
        "df = df[(df['City'] != \"\") & (df['State'] != \"\")]\n",
        "\n",
        "def get_lat_lon(city, state):\n",
        "    headers = {'User-Agent': 'Mozilla/5.0 (Windows NT 10.0; Win64; x64) AppleWebKit/537.36 (KHTML, like Gecko) Chrome/58.0.3029.11'}\n",
        "    url = f\"https://nominatim.openstreetmap.org/search?city={city}&state={state}&country=united+states&limit=1&format=json\"\n",
        "\n",
        "    try:\n",
        "        # Send the API request\n",
        "        response = requests.get(url, headers=headers).json()\n",
        "\n",
        "        if response:\n",
        "            lat = response[0]['lat']\n",
        "            lon = response[0]['lon']\n",
        "            return lat, lon\n",
        "        else:\n",
        "            return None, None\n",
        "    except Exception as e:\n",
        "        print(f\"Error retrieving coordinates for {city}, {state}: {e}\")\n",
        "        return None, None\n",
        "\n",
        "latitudes = []\n",
        "longitudes = []\n",
        "\n",
        "for city, state in zip(df['City'], df['State']):\n",
        "    lat, lon = get_lat_lon(city, state)\n",
        "    latitudes.append(lat)\n",
        "    longitudes.append(lon)\n",
        "    sleep(1)\n",
        "\n",
        "\n",
        "df['Latitude'] = latitudes\n",
        "df['Longitude'] = longitudes\n",
        "\n",
        "df_missing_coords = df[df['Latitude'].isnull() | df['Longitude'].isnull()]\n",
        "if not df_missing_coords.empty:\n",
        "    print(\"Some locations did not return coordinates:\")\n",
        "    print(df_missing_coords[['Location', 'City', 'State']])\n",
        "\n",
        "m = folium.Map(location=[39.8283, -98.5795], zoom_start=4)\n",
        "\n",
        "for _, row in df.iterrows():\n",
        "    if row['Latitude'] and row['Longitude']:  # Only add valid coordinates\n",
        "        folium.Marker(\n",
        "            location=[row['Latitude'], row['Longitude']],\n",
        "            popup=folium.Popup(f\"City: {row['Location']}\", parse_html=True),\n",
        "            tooltip=row['Location']\n",
        "        ).add_to(m)\n",
        "\n",
        "m.save(\"interactive_map.html\")\n",
        "\n",
        "print(\"Map has been saved as 'interactive_map.html'. You can open it in your browser.\")"
      ],
      "metadata": {
        "id": "EKXcJZIyBYq8"
      },
      "execution_count": null,
      "outputs": []
    }
  ]
}