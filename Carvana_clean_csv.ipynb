{
  "nbformat": 4,
  "nbformat_minor": 0,
  "metadata": {
    "colab": {
      "provenance": []
    },
    "kernelspec": {
      "name": "python3",
      "display_name": "Python 3"
    },
    "language_info": {
      "name": "python"
    }
  },
  "cells": [
    {
      "cell_type": "code",
      "source": [
        "import os\n",
        "import pandas as pd"
      ],
      "metadata": {
        "id": "NGoh_leCQQ3K"
      },
      "execution_count": 1,
      "outputs": []
    },
    {
      "cell_type": "markdown",
      "source": [
        "###Variable Cleaning for Carvana"
      ],
      "metadata": {
        "id": "g0ABu8DfWKPv"
      }
    },
    {
      "cell_type": "code",
      "source": [
        "# List of columns to be removed\n",
        "columns_to_remove = [\n",
        "    'analyticsOnlyGetItByDays', 'backSeatImageUrl', 'earliestDaysToDeliveryOrPickupType',\n",
        "    'earliestLocalLocation_activityType', 'entireDashImageUrl', 'imageUrl',\n",
        "    'infotainmentImageUrl', 'isNewSinceLastVisit', 'isOnDemand', 'isPurchasePending',\n",
        "    'jellyBeanDesktopUrl', 'passengerSeatImageUrl', 'previousPrice', 'price_discounts',\n",
        "    'price_evTaxCredit', 'price_evTaxCreditAppliedPrice', 'price_feesMinusShipping',\n",
        "    'price_pricingErrorMessage', 'price_totalDiscountAmount', 'price_totalFees', 'vehicleLockType','jellyBeanMobileUrl',\n",
        "    'price_totalTaxes', 'price_transportCost', 'splattingVideos', 'steeringImageUrl',\n",
        "    'stockRecallStatusType', 'storeKey', 'stores', 'textlessUrl', 'transportCost',\n",
        "    'trunkImageUrl', 'vehicleReservableReasons', 'vehicleTags', 'priceUpdateDate', 'vehiclePurchaseType'\n",
        "]\n",
        "\n",
        "# Function to process each CSV file\n",
        "def process_csv_files(input_directory, output_directory):\n",
        "    # Create the output directory if it doesn't exist\n",
        "    if not os.path.exists(output_directory):\n",
        "        os.makedirs(output_directory)\n",
        "\n",
        "    for filename in os.listdir(input_directory):\n",
        "        if filename.endswith('.csv'):\n",
        "            # Construct the full file path\n",
        "            file_path = os.path.join(input_directory, filename)\n",
        "\n",
        "            # Read the CSV file into a DataFrame\n",
        "            df = pd.read_csv(file_path)\n",
        "\n",
        "            # Drop the columns from the DataFrame\n",
        "            df = df.drop(columns=[col for col in columns_to_remove if col in df.columns])\n",
        "\n",
        "            # Create the new filename\n",
        "            new_filename = f\"modified_{filename}\"\n",
        "            new_file_path = os.path.join(output_directory, new_filename)\n",
        "\n",
        "            # Save the modified DataFrame to a new CSV file in the output directory\n",
        "            df.to_csv(new_file_path, index=False)\n",
        "            print(f\"Processed {filename} -> {new_filename}\")\n",
        "\n",
        "# Specify the directories\n",
        "input_directory = '/content/Car_data'\n",
        "output_directory = '/content/modified_car_details'  # Directory to save the modified CSV files\n",
        "\n",
        "# Process the CSV files in the specified directories\n",
        "process_csv_files(input_directory, output_directory)\n"
      ],
      "metadata": {
        "colab": {
          "base_uri": "https://localhost:8080/"
        },
        "id": "Ex5ixopWV0ES",
        "outputId": "40bb3ecc-39fe-434a-fbd2-80dd8561d5a9"
      },
      "execution_count": 2,
      "outputs": [
        {
          "output_type": "stream",
          "name": "stdout",
          "text": [
            "Processed MA_vehicles.csv -> modified_MA_vehicles.csv\n",
            "Processed GA_vehicles.csv -> modified_GA_vehicles.csv\n",
            "Processed OR_vehicles.csv -> modified_OR_vehicles.csv\n",
            "Processed TX_vehicles.csv -> modified_TX_vehicles.csv\n",
            "Processed CA_vehicles.csv -> modified_CA_vehicles.csv\n",
            "Processed FL_vehicles.csv -> modified_FL_vehicles.csv\n"
          ]
        }
      ]
    },
    {
      "cell_type": "markdown",
      "source": [
        "###Store unique car details"
      ],
      "metadata": {
        "id": "wukBjIdg5QEp"
      }
    },
    {
      "cell_type": "code",
      "source": [
        "# Directory where the CSV files are stored\n",
        "directory = '/content/modified_car_details'\n",
        "\n",
        "# List all CSV files in the directory\n",
        "csv_files = [f for f in os.listdir(directory) if f.endswith('.csv')]\n",
        "\n",
        "# Empty list to collect dataframes\n",
        "dfs = []\n",
        "\n",
        "# Read each CSV file and add the dataframe to the list\n",
        "for file in csv_files:\n",
        "    file_path = os.path.join(directory, file)  # Full path to the CSV file\n",
        "    if os.path.exists(file_path):\n",
        "        df = pd.read_csv(file_path)\n",
        "        dfs.append(df)\n",
        "    else:\n",
        "        print(f\"File {file_path} does not exist.\")\n",
        "\n",
        "# Concatenate all dataframes into one\n",
        "combined_df = pd.concat(dfs, ignore_index=True)\n",
        "\n",
        "# Remove duplicates based on the \"vin\" column\n",
        "unique_df = combined_df.drop_duplicates(subset=['vin'], keep='first')\n",
        "\n",
        "# Print the number of unique records\n",
        "print(f\"Number of refetch unique records found: {len(unique_df)}\")\n",
        "\n",
        "# Save the unique records to a new CSV file\n",
        "unique_df.to_csv('refetch_unique_car_records.csv', index=False)\n",
        "\n",
        "print(\"Unique records have been saved to 'refetch_unique_car_records.csv'\")\n"
      ],
      "metadata": {
        "colab": {
          "base_uri": "https://localhost:8080/"
        },
        "id": "sxiV4-lFySK_",
        "outputId": "ef1f0973-415a-4aba-e716-37bd5026c8f2"
      },
      "execution_count": 5,
      "outputs": [
        {
          "output_type": "stream",
          "name": "stdout",
          "text": [
            "Number of refetch unique records found: 10862\n",
            "Unique records have been saved to 'refetch_unique_car_records.csv'\n"
          ]
        }
      ]
    },
    {
      "cell_type": "markdown",
      "source": [
        "###Merge unique_car_records.cvs and refetch_unique_car_records.csv"
      ],
      "metadata": {
        "id": "4DpjZ0_cWVzP"
      }
    },
    {
      "cell_type": "code",
      "source": [
        "# Load the CSV files into pandas DataFrames\n",
        "unique_car_records = pd.read_csv('unique_car_records.csv')\n",
        "refetch_unique_car_records = pd.read_csv('refetch_unique_car_records.csv')\n",
        "\n",
        "# Find the common 'vin' values between the two DataFrames\n",
        "common_vins = pd.merge(unique_car_records[['vin']], refetch_unique_car_records[['vin']], on='vin', how='inner')\n",
        "\n",
        "# Print the number of common records\n",
        "print(f\"Number of common records based on 'vin': {common_vins.shape[0]}\")\n",
        "\n",
        "# Combine both DataFrames\n",
        "combined_df = pd.concat([unique_car_records, refetch_unique_car_records])\n",
        "\n",
        "# Drop duplicate rows based on the 'vin' column, keeping the first occurrence\n",
        "final_unique_records = combined_df.drop_duplicates(subset='vin', keep='first')\n",
        "\n",
        "# Save the final unique records to a new CSV file\n",
        "final_unique_records.to_csv('final_unique_records.csv', index=False)\n",
        "\n",
        "# Print the number of records in the final CSV file\n",
        "print(f\"Number of records in the final unique CSV file: {final_unique_records.shape[0]}\")\n",
        "\n",
        "print(\"Merging complete. The final unique records have been saved to 'final_unique_records.csv'.\")\n"
      ],
      "metadata": {
        "id": "NSZWlf2DQ68j",
        "colab": {
          "base_uri": "https://localhost:8080/"
        },
        "outputId": "312dfc22-baab-42af-fb07-ed66ab848e6a"
      },
      "execution_count": 6,
      "outputs": [
        {
          "output_type": "stream",
          "name": "stdout",
          "text": [
            "Number of common records based on 'vin': 0\n",
            "Number of records in the final unique CSV file: 45536\n",
            "Merging complete. The final unique records have been saved to 'final_unique_records.csv'.\n"
          ]
        }
      ]
    },
    {
      "cell_type": "markdown",
      "source": [
        "##Compare the records between TrueCars and Carvana  "
      ],
      "metadata": {
        "id": "LjD4QadYV5cF"
      }
    },
    {
      "cell_type": "code",
      "source": [
        "# Load the CSV files into DataFrames\n",
        "truecars_df = pd.read_csv('TrueCars_data.csv')\n",
        "unique_cars_df = pd.read_csv('unique_car_records.csv')\n",
        "\n",
        "# Convert VIN columns to uppercase (to ensure case-insensitivity)\n",
        "truecars_df['VIN'] = truecars_df['VIN'].str.upper()\n",
        "unique_cars_df['vin'] = unique_cars_df['vin'].str.upper()\n",
        "\n",
        "# Find the common VINs between the two DataFrames\n",
        "common_vins = pd.merge(truecars_df, unique_cars_df, left_on='VIN', right_on='vin')\n",
        "\n",
        "# Find VINs only in unique_car_records.csv\n",
        "unique_in_unique_cars = unique_cars_df[~unique_cars_df['vin'].isin(truecars_df['VIN'])]\n",
        "\n",
        "# Find VINs only in TrueCars_data.csv\n",
        "unique_in_truecars = truecars_df[~truecars_df['VIN'].isin(unique_cars_df['vin'])]\n",
        "\n",
        "# Count the number of rows in each DataFrame\n",
        "common_count = common_vins.shape[0]\n",
        "unique_in_unique_cars_count = unique_in_unique_cars.shape[0]\n",
        "unique_in_truecars_count = unique_in_truecars.shape[0]\n",
        "\n",
        "# Output the results\n",
        "print(f\"Common VINs count: {common_count}\")\n",
        "print(f\"VINs in unique_car_records but not in TrueCars_data: {unique_in_unique_cars_count}\")\n",
        "print(f\"VINs in TrueCars_data but not in unique_car_records: {unique_in_truecars_count}\")\n",
        "\n",
        "# You can save the DataFrames if needed\n",
        "common_vins.to_csv('common_vins.csv', index=False)\n",
        "unique_in_unique_cars.to_csv('unique_in_unique_car_records.csv', index=False)\n",
        "unique_in_truecars.to_csv('unique_in_truecars.csv', index=False)\n",
        "\n"
      ],
      "metadata": {
        "id": "COOr24ZNFyZp",
        "colab": {
          "base_uri": "https://localhost:8080/"
        },
        "outputId": "450328cc-fd48-48e7-a381-7b71f4d585d5"
      },
      "execution_count": null,
      "outputs": [
        {
          "output_type": "stream",
          "name": "stdout",
          "text": [
            "Common VINs count: 0\n",
            "VINs in unique_car_records but not in TrueCars_data: 34674\n",
            "VINs in TrueCars_data but not in unique_car_records: 45920\n",
            "\n",
            "Common VINs DataFrame:\n",
            "Empty DataFrame\n",
            "Columns: [Car Name, Car Webpage, Car Health, Price, Car Exterior Color, Car Interior Color, Miles, Fuel Type, Fuel Efficiency (mileage), EPA Range, Transmission, Drivetrain, Engine, Location, Listing Status, VIN, Stock Number, Accidents, Owners, Car Title Status, Use Type, Vehicle Last Inspected, Make, Model, Trim, Body Class, Model Year, Seating Capacity, bodyStyle, color, drivingMiles, earliestLocalLocation_locationId, fuelType, interiorColor, kbbTrim, locationId, make, mileage, milesPerGallon, model, parentModel, price_kbbValue, price_total, seatingCapacity, stockNumber, trim, vdpSlug, vehicleId, vehicleInventoryType, vin, year, zip_code]\n",
            "Index: []\n",
            "\n",
            "[0 rows x 52 columns]\n",
            "\n",
            "Unique VINs in unique_car_records.csv:\n",
            "         bodyStyle   color  drivingMiles  earliestLocalLocation_locationId  \\\n",
            "0      Convertible   Black         359.0                             341.0   \n",
            "1           Pickup    Gray         180.0                             341.0   \n",
            "2           Pickup    Gray         180.0                             341.0   \n",
            "3            Sedan    Gray         180.0                             341.0   \n",
            "4              Suv   Black         180.0                             341.0   \n",
            "...            ...     ...           ...                               ...   \n",
            "34669          Suv    Gray        1175.0                             381.0   \n",
            "34670          Suv  Silver        1175.0                             381.0   \n",
            "34671        Sedan   Black        1020.0                             381.0   \n",
            "34672          Suv     Red        1020.0                             381.0   \n",
            "34673          Suv  Silver        1175.0                             381.0   \n",
            "\n",
            "       fuelType interiorColor                             kbbTrim  locationId  \\\n",
            "0           Gas         Black                  SL 550 Roadster 2D         111   \n",
            "1           Gas         Black         Big Horn Pickup 4D 5 1/2 ft         128   \n",
            "2           Gas         Black  Texas Trail Edition Pickup 4D 5 ft         128   \n",
            "3           Gas         Black                     1.4T S Sedan 4D         128   \n",
            "4           Gas         Black          xDrive40i Sport Utility 4D         128   \n",
            "...         ...           ...                                 ...         ...   \n",
            "34669       Gas         Black                        Sport SUV 4D           1   \n",
            "34670       Gas          Gray            Premium Sport Utility 4D           1   \n",
            "34671  Electric         Black                 Long Range Sedan 4D          79   \n",
            "34672       Gas         Black                1LT Sport Utility 4D          79   \n",
            "34673       Gas          Gray               EX-L Sport Utility 4D           1   \n",
            "\n",
            "                make  mileage  ...  price_total seatingCapacity stockNumber  \\\n",
            "0      Mercedes-Benz    44684  ...      25990.0               2  2003191932   \n",
            "1                Ram    58318  ...      27590.0               5  2003409332   \n",
            "2               Jeep    40407  ...      31990.0               5  2003332247   \n",
            "3         Volkswagen    68830  ...      17590.0               5  2003500000   \n",
            "4                BMW    68880  ...      31590.0               5  2003295253   \n",
            "...              ...      ...  ...          ...             ...         ...   \n",
            "34669           Jeep    91832  ...      16590.0               5  2003444777   \n",
            "34670          Buick    56432  ...      14590.0               5  2003430221   \n",
            "34671          Tesla    26913  ...      29990.0               5  2003507162   \n",
            "34672      Chevrolet    42710  ...      21590.0               5  2003518643   \n",
            "34673          Honda    65954  ...      17990.0               5  2003512289   \n",
            "\n",
            "                           trim                                       vdpSlug  \\\n",
            "0                        SL 550            2012-mercedes-benz-sl-class-sl-550   \n",
            "1             Big Horn 5 1/2 ft       2018-ram-1500-crew-cab-big-horn-5-12-ft   \n",
            "2      Texas Trail Edition 5 ft  2022-jeep-gladiator-texas-trail-edition-5-ft   \n",
            "3                        1.4T S                  2021-volkswagen-jetta-1.4t-s   \n",
            "4                     xDrive40i                         2019-bmw-x5-xdrive40i   \n",
            "...                         ...                                           ...   \n",
            "34669                     Sport                       2020-jeep-compass-sport   \n",
            "34670                   Premium                     2013-buick-encore-premium   \n",
            "34671                Long Range                 2023-tesla-model-3-long-range   \n",
            "34672                       1LT                     2021-chevrolet-blazer-1lt   \n",
            "34673                      EX-L                          2013-honda-cr-v-ex-l   \n",
            "\n",
            "       vehicleId  vehicleInventoryType                vin  year  zip_code  \n",
            "0        3276672                     1  WDBSK7BA7CF168963  2012     32218  \n",
            "1        3436816                     1  1C6RR6LT6JS180829  2018     32218  \n",
            "2        3425231                     1  1C6HJTAG5NL164399  2022     32218  \n",
            "3        3493604                     1  3VWC57BU6MM089869  2021     32218  \n",
            "4        3366116                     1  5UXCR6C51KLK80556  2019     32218  \n",
            "...          ...                   ...                ...   ...       ...  \n",
            "34669    3461889                     1  3C4NJCAB6LT102396  2020     79424  \n",
            "34670    3449459                     1  KL4CJHSB9DB139488  2013     79424  \n",
            "34671    3493824                     1  5YJ3E1EB7PF609953  2023     79424  \n",
            "34672    3504844                     1  3GNKBBRA0MS557703  2021     79424  \n",
            "34673    3501268                     1  5J6RM3H79DL030904  2013     79424  \n",
            "\n",
            "[34674 rows x 24 columns]\n",
            "\n",
            "Unique VINs in TrueCars_data.csv:\n",
            "                                                Car Name  \\\n",
            "0                          2023 Chevrolet Blazer 2LT AWD   \n",
            "1                     2019 Ford Mustang Bullitt Fastback   \n",
            "2             2021 Ford F-150 XLT SuperCrew 5.5' Box 4WD   \n",
            "3                   2021 Ford Bronco Big Bend 4 Door 4WD   \n",
            "4                      2017 Mercedes-Benz GLA 250 4MATIC   \n",
            "...                                                  ...   \n",
            "45915                           2017 Honda CR-V EX-L FWD   \n",
            "45916  2003 Chevrolet Silverado 1500 LS Extended Cab ...   \n",
            "45917                          2021 Lexus ES 350 F Sport   \n",
            "45918                          2014 Nissan Sentra SV CVT   \n",
            "45919                                 2019 Kia Sedona EX   \n",
            "\n",
            "                                             Car Webpage           Car Health  \\\n",
            "0      https://www.truecar.com/used-cars-for-sale/lis...                 Used   \n",
            "1      https://www.truecar.com/used-cars-for-sale/lis...                 Used   \n",
            "2      https://www.truecar.com/used-cars-for-sale/lis...                 Used   \n",
            "3      https://www.truecar.com/used-cars-for-sale/lis...  Certified Pre-Owned   \n",
            "4      https://www.truecar.com/used-cars-for-sale/lis...                 Used   \n",
            "...                                                  ...                  ...   \n",
            "45915  https://www.truecar.com/used-cars-for-sale/lis...                 Used   \n",
            "45916  https://www.truecar.com/used-cars-for-sale/lis...                 Used   \n",
            "45917  https://www.truecar.com/used-cars-for-sale/lis...                 Used   \n",
            "45918  https://www.truecar.com/used-cars-for-sale/lis...                 Used   \n",
            "45919  https://www.truecar.com/used-cars-for-sale/lis...                 Used   \n",
            "\n",
            "         Price            Car Exterior Color      Car Interior Color  \\\n",
            "0      $18,300                  Summit White               Jet Black   \n",
            "1      $40,998  Dark Highland Green Metallic    Ebony W/Green Stitch   \n",
            "2      $35,470                  Oxford White        Black Dark Slate   \n",
            "3      $35,525                       Area 51  Dark Gray W/Black Onyx   \n",
            "4      $11,900                  Cirrus White            Sahara Beige   \n",
            "...        ...                           ...                     ...   \n",
            "45915  $14,390         Modern Steel Metallic                    Gray   \n",
            "45916   $7,994         Arrival Blue Metallic                   Black   \n",
            "45917  $33,617                 Atomic Silver                   Black   \n",
            "45918   $7,726                     Red Brick                Charcoal   \n",
            "45919  $16,999                  Silky Silver                    Gray   \n",
            "\n",
            "               Miles Fuel Type Fuel Efficiency (mileage) EPA Range  ...  \\\n",
            "0       50,691 miles       Gas      22 city / 27 highway       NaN  ...   \n",
            "1       12,745 miles       Gas      15 city / 24 highway       NaN  ...   \n",
            "2       27,851 miles       Gas      19 city / 22 highway       NaN  ...   \n",
            "3       30,957 miles       Gas      20 city / 22 highway       NaN  ...   \n",
            "4       86,024 miles       Gas      23 city / 31 highway       NaN  ...   \n",
            "...              ...       ...                       ...       ...  ...   \n",
            "45915  121,047 miles       Gas      28 city / 34 highway       NaN  ...   \n",
            "45916  169,016 miles       Gas      15 city / 20 highway       NaN  ...   \n",
            "45917   35,514 miles       Gas      22 city / 31 highway       NaN  ...   \n",
            "45918  111,506 miles       Gas      30 city / 39 highway       NaN  ...   \n",
            "45919   72,725 miles       Gas      18 city / 24 highway       NaN  ...   \n",
            "\n",
            "      Owners Car Title Status  Use Type Vehicle Last Inspected           Make  \\\n",
            "0        1.0      Clean Title    Rental              2/10/2025      CHEVROLET   \n",
            "1        3.0      Clean Title  Personal               2/9/2025           FORD   \n",
            "2        1.0      Clean Title  Personal              2/11/2025           FORD   \n",
            "3        1.0      Clean Title  Personal              2/18/2025           FORD   \n",
            "4        2.0      Clean Title  Personal              1/28/2025  MERCEDES-BENZ   \n",
            "...      ...              ...       ...                    ...            ...   \n",
            "45915    2.0      Clean Title    Rental               1/7/2025          HONDA   \n",
            "45916    2.0      Clean Title  Personal              1/10/2025      CHEVROLET   \n",
            "45917    2.0      Clean Title  Personal               2/4/2025          LEXUS   \n",
            "45918    3.0      Clean Title  Personal              2/11/2025         NISSAN   \n",
            "45919    2.0      Clean Title  Personal               2/6/2025            KIA   \n",
            "\n",
            "           Model            Trim  \\\n",
            "0         Blazer             2LT   \n",
            "1        Mustang             NaN   \n",
            "2          F-150             NaN   \n",
            "3         Bronco             NaN   \n",
            "4      GLA-Class             NaN   \n",
            "...          ...             ...   \n",
            "45915       CR-V  EX-L/EX-L Navi   \n",
            "45916  Silverado             NaN   \n",
            "45917         ES         F Sport   \n",
            "45918     Sentra             NaN   \n",
            "45919     Sedona             NaN   \n",
            "\n",
            "                                              Body Class  Model Year  \\\n",
            "0      Sport Utility Vehicle (SUV)/Multi-Purpose Vehi...        2023   \n",
            "1                                                  Coupe        2019   \n",
            "2                                                 Pickup        2021   \n",
            "3      Sport Utility Vehicle (SUV)/Multi-Purpose Vehi...        2021   \n",
            "4      Sport Utility Vehicle (SUV)/Multi-Purpose Vehi...        2017   \n",
            "...                                                  ...         ...   \n",
            "45915  Sport Utility Vehicle (SUV)/Multi-Purpose Vehi...        2017   \n",
            "45916                                             Pickup        2003   \n",
            "45917                                       Sedan/Saloon        2021   \n",
            "45918                                       Sedan/Saloon        2014   \n",
            "45919                                            Minivan        2019   \n",
            "\n",
            "      Seating Capacity  \n",
            "0                  NaN  \n",
            "1                  4.0  \n",
            "2                  NaN  \n",
            "3                  NaN  \n",
            "4                  NaN  \n",
            "...                ...  \n",
            "45915              5.0  \n",
            "45916              NaN  \n",
            "45917              5.0  \n",
            "45918              NaN  \n",
            "45919              5.0  \n",
            "\n",
            "[45920 rows x 28 columns]\n"
          ]
        }
      ]
    },
    {
      "cell_type": "markdown",
      "source": [
        "##Creating Sample Data"
      ],
      "metadata": {
        "id": "47jVbBKJFv40"
      }
    },
    {
      "cell_type": "code",
      "source": [
        "# Function to create a sample CSV with 50 random records\n",
        "def create_sample_csv(input_file, output_file, num_samples=50):\n",
        "    # Read the CSV file into a pandas DataFrame\n",
        "    df = pd.read_csv(input_file)\n",
        "\n",
        "    # Ensure that the number of samples does not exceed the number of available records\n",
        "    if len(df) < num_samples:\n",
        "        print(f\"Warning: There are only {len(df)} records in the file. The sample will contain all of them.\")\n",
        "        num_samples = len(df)\n",
        "\n",
        "    # Take a random sample of the data\n",
        "    sample_df = df.sample(n=num_samples, random_state=42)  # random_state for reproducibility\n",
        "\n",
        "    # Write the sample to a new CSV file\n",
        "    sample_df.to_csv(output_file, index=False)\n",
        "    print(f\"A random sample of {num_samples} records has been saved to {output_file}\")\n",
        "\n",
        "# Specify the input and output file names\n",
        "input_csv_file = 'final_unique_records.csv'\n",
        "output_csv_file = 'sample_final_unique_carvana_data.csv'\n",
        "\n",
        "# Call the function to create the sample CSV\n",
        "create_sample_csv(input_csv_file, output_csv_file)\n"
      ],
      "metadata": {
        "colab": {
          "base_uri": "https://localhost:8080/"
        },
        "id": "yvTpgofu5jQu",
        "outputId": "27a381f8-65fd-4495-f989-ba9f83f927a8"
      },
      "execution_count": 7,
      "outputs": [
        {
          "output_type": "stream",
          "name": "stdout",
          "text": [
            "A random sample of 50 records has been saved to sample_final_unique_carvana_data.csv\n"
          ]
        }
      ]
    },
    {
      "cell_type": "markdown",
      "source": [
        "##Tried scarping from VIN-focused endpoint"
      ],
      "metadata": {
        "id": "3mHAEg1BxaX5"
      }
    },
    {
      "cell_type": "code",
      "source": [
        "import requests"
      ],
      "metadata": {
        "id": "Xk7nsA15BXvq"
      },
      "execution_count": null,
      "outputs": []
    },
    {
      "cell_type": "code",
      "source": [
        "response = requests.get(\"https://www.carvana.com/vehicle/3494097?refSource=srp\")"
      ],
      "metadata": {
        "id": "xlHlYstfcDj8"
      },
      "execution_count": null,
      "outputs": []
    },
    {
      "cell_type": "code",
      "source": [
        "response.text"
      ],
      "metadata": {
        "colab": {
          "base_uri": "https://localhost:8080/",
          "height": 1000
        },
        "id": "ROJ457lkcG6i",
        "outputId": "3a33aad2-e3a6-4a7a-ab6c-dff81601b5c8"
      },
      "execution_count": null,
      "outputs": [
        {
          "output_type": "execute_result",
          "data": {
            "text/plain": [
              "'<!DOCTYPE html><html lang=\"en-US\"><head><title>Just a moment...</title><meta http-equiv=\"Content-Type\" content=\"text/html; charset=UTF-8\"><meta http-equiv=\"X-UA-Compatible\" content=\"IE=Edge\"><meta name=\"robots\" content=\"noindex,nofollow\"><meta name=\"viewport\" content=\"width=device-width,initial-scale=1\"><style>*{box-sizing:border-box;margin:0;padding:0}html{line-height:1.15;-webkit-text-size-adjust:100%;color:#313131;font-family:system-ui,-apple-system,BlinkMacSystemFont,Segoe UI,Roboto,Helvetica Neue,Arial,Noto Sans,sans-serif,Apple Color Emoji,Segoe UI Emoji,Segoe UI Symbol,Noto Color Emoji}body{display:flex;flex-direction:column;height:100vh;min-height:100vh}.main-content{margin:8rem auto;max-width:60rem;padding-left:1.5rem}@media (width <= 720px){.main-content{margin-top:4rem}}.h2{font-size:1.5rem;font-weight:500;line-height:2.25rem}@media (width <= 720px){.h2{font-size:1.25rem;line-height:1.5rem}}#challenge-error-text{background-image:url(data:image/svg+xml;base64,PHN2ZyB4bWxucz0iaHR0cDovL3d3dy53My5vcmcvMjAwMC9zdmciIHdpZHRoPSIzMiIgaGVpZ2h0PSIzMiIgZmlsbD0ibm9uZSI+PHBhdGggZmlsbD0iI0IyMEYwMyIgZD0iTTE2IDNhMTMgMTMgMCAxIDAgMTMgMTNBMTMuMDE1IDEzLjAxNSAwIDAgMCAxNiAzbTAgMjRhMTEgMTEgMCAxIDEgMTEtMTEgMTEuMDEgMTEuMDEgMCAwIDEtMTEgMTEiLz48cGF0aCBmaWxsPSIjQjIwRjAzIiBkPSJNMTcuMDM4IDE4LjYxNUgxNC44N0wxNC41NjMgOS41aDIuNzgzem0tMS4wODQgMS40MjdxLjY2IDAgMS4wNTcuMzg4LjQwNy4zODkuNDA3Ljk5NCAwIC41OTYtLjQwNy45ODQtLjM5Ny4zOS0xLjA1Ny4zODktLjY1IDAtMS4wNTYtLjM4OS0uMzk4LS4zODktLjM5OC0uOTg0IDAtLjU5Ny4zOTgtLjk4NS40MDYtLjM5NyAxLjA1Ni0uMzk3Ii8+PC9zdmc+);background-repeat:no-repeat;background-size:contain;padding-left:34px}@media (prefers-color-scheme:dark){body{background-color:#222;color:#d9d9d9}}</style><meta http-equiv=\"refresh\" content=\"390\"></head><body class=\"no-js\"><div class=\"main-wrapper\" role=\"main\"><div class=\"main-content\"><noscript><div class=\"h2\"><span id=\"challenge-error-text\">Enable JavaScript and cookies to continue</span></div></noscript></div></div><script>(function(){window._cf_chl_opt={cvId: \\'3\\',cZone: \"www.carvana.com\",cType: \\'managed\\',cRay: \\'918eab856ec68bbc\\',cH: \\'mc_EmfsNVYu3vvfQEMKAtU_fWoAgvjmxOIS8iqIHNIk-1740727414-1.2.1.1-H7dTwyI3seGTTuj1stKL.wHp7ZDD4x8uX57PP26uPh7ScSCNLqI2x1LvQHMZ1FRF\\',cUPMDTk: \"\\\\/vehicle\\\\/3494097?refSource=srp&__cf_chl_tk=JDMMde.fMN8IA3eZdqe._AMBRNadAuZZh9vhsvnhpO4-1740727414-1.0.1.1-9P3Ifq3haCMdHBlfmQGNWLaQ8uUlmnBHT4zlknaOqCE\",cFPWv: \\'b\\',cITimeS: \\'1740727414\\',cTTimeMs: \\'1000\\',cMTimeMs: \\'390000\\',cTplC: 0,cTplV: 5,cTplB: \\'cf\\',cK: \"\",fa: \"\\\\/vehicle\\\\/3494097?refSource=srp&__cf_chl_f_tk=JDMMde.fMN8IA3eZdqe._AMBRNadAuZZh9vhsvnhpO4-1740727414-1.0.1.1-9P3Ifq3haCMdHBlfmQGNWLaQ8uUlmnBHT4zlknaOqCE\",md: \"rbZlNnnvNbBip.MU5puYhhwx60SR1pNtdBqY_oIvENM-1740727414-1.2.1.1-CQtpDrYzHs5az8GUgdliFCiWUTFt45ftxLi17OPwtSzpQHGkir8wmNPKoKHvs_ymLoMWuPJrg15_qI8nc3uLdkDYziMAA5_Lt2R1tPhZcw_LAT1stGfaKVKCIgVl4OoftVX0SiiHD9Eu7aez8STbJbtSP7K1_RTOZmCIcsLsUfTVb0BCz2tDCYjEHZ1glgdYquIV7njGE3odEjOk4vs9nbW.tnKTWspqJUPbaEvuRUmDaOqcbg6zNDvo2Fiw6dWN9vKuUU5qZycvplcHNQwF68zTDcXZy6JeO56qkwldzWO6QtZqa8m1B7DullcGqw7eYt.MYL37gPpGyPPQebA01PWf7LGLbI5bAlVG27AGLFWaS.Lbk359_I.XA6PHP0RUwMlzTSYjhCz4753zQ6oSU8OwTjFMaJD0QzkrqJ4VM.W_VLA0BOhWrly_VYWNkJ_H7AjFtrnt.RMYQvqUUSo8MZbBXnvoPxxxR_3UAeOUiqzHaobKRqKqdu_azG7Vd5Tq47iCL7yZMiv7MHZAWRVqhs41t_qdC3XndIRahggPrjO0y3d_uNwpgEwklhSAyeJ2UIlIZgsP1W0jnk_NF0NPQHSnv_efbgFNfRJ8XbALtdCpyqmB5tuU_K6kimnudCw_Sro1fqjK2e6fP2woEJ_syjLWL7eaIWI2f_GAb51iDlC_gHrJYxi5jUstjyMiK5px0hhuLQyflODWh9twBbNSgVCaS.xCU197NWBZguXaISEck3rB_hm_0gHcZVGOy7t3FG2JY36B3YNw2HmAZoGLiEp7iVKiRKR4K7PM2J76PB8i.3WbxqdkMJl7zqP53iv78tZmKUCEfCUCeB8w_EWmi5MWnqrscfIYs_m7TRtwC6yTmh0A51builP0Y6AcSbuz8zK2UAOsGWBCwd7iz_8ODtc1kf5J6zMSxmQbme_5fUai3kUXZOGSvjvwhGOzWzkG7g21Gt2qYKzaDSXPUwi4obeqmkc5zvPiDRtHWiYZbPshjZhi7I0fGSULzGfDE6TDxajp6VLpA8YL010IsvyJ5lBMf2BmsCobtkiecOTS88oKJS9PdfIZXbIAyLRe6rW4j9uah9bQuIWStcCHKvxfR2814N5siHWU9e.E1Fp6woZZ2kPR2itjgjq8Et3JVbq7SP03q1NV2eWaaHaefIxXrjM5LQdUfN8gqtmesZs01OUdQPA4fRY21Mv_zA6vNg4Vcl4lkYy_rZ7BtOxSpeKatCPv1Batt8gVcnGBO54RCuSu3ykvCQI7GpYb3rYXy55SMqxcG9XvmJCuaFuCSrhtsmS_4d_vLqU.dAwpC50Q.ez1TdkpHL4q8RGU3tloUMNzgbFPRs4AKITOfg7pyQL82pXFK1jS4fci0hOLtUh3uEXoy.qCEU19DkkM5.uVuAWRhTKu2omno3PESiYOxjk.Njp6cZt0b2Oj2obHp7gd25NdY8bxrJjF2f7j4Ic9bqiHNISslzlLgR6Cb1moVJglIi4gtykJsGw.DSXNabC7zJCUUVyfY.5vX8SeqvvhhNoGH0RN9eYpr8veuKk7glYxkcfOf_tbPgPErk1btjxscQFkdiUaKu2_FI9fACokFo0O6dlabtA2P4v7iqMXpQbAu5X2EWT2QJtQnXmKPquQQOAl0PqZZ7QryClhmmS6HyV0uj9B8jCZZoww4Ozk0dGvO0arr0HNdWthRVsQALGf2ISOSog05bARvWlqsHu0B2hNNodHYvyFm.v2GRclLOQfVRZegEKNBeoGyTFF1vVB9CFzmudQDftT6DQUMOpQXhJSfvvhr3OYoI8uFZOyDLNQ5pj.xrCiLrxgjm3sGUonFCXH4PHVYnKl0wtrU3ciMlOjlJTBjxkOGKSNUGInKSwlWfE4o8QeWVlfmEucHbYDXYpqQzw70rSkTmkuzxTLM4GFYvzg3Ki2YxTae31zFhoXleDzGMIWCdMOoIZLtcL_YJBKPLH36Ci4HARwZBUTosvhE3W5Wx3wxdv5gic2eI5zjmpqae5RG6ne3au1byPrxmzrZzaO39MoR1I5aQFp_0Gc3yYj3YhX8fnwHSqcwOd3TWhAy64U0YtfFDYi8K1.NbrgcNYPJ.oZ7XBaeEVdmf3gr8DTVuOWXqoitxhvzCZqTSiocx2tg36JwpbAmEPpDCXefQvlYvdguWTybtABAUdcj.El1HS7530qtPaxluiDvRE7Dm35SS1gwkIvCiWZl_YcwzH.lmkbCouq9plhNUmUMApaTo8rAu7UTJb_g7ZiVbZMhHSv17uohnSJiusIXb_cztyVKCTGWfEXo35ZtU2JZYM1c6hNAp48911.07VXLBolQnEf4mYyOVM2oEiPBgKl78ZYOODkTB2yt73JohJiLOw7J2zwNI6T.R6we5nLsA\",mdrd: \"DO_RC_4ZCbkTFEH_lrOTUPDfweyUVhHldtnPONA3H0s-1740727414-1.2.1.1-lB0gmwiy5MfJbBhpxEEQcqaQy.vsoJ7nMarJAFh_kZXZ_ofFRA1smaD4FIeP4TU.sDrflx2Zwt15oT1__PkloanyuRyIz0z6eEhDuTW3_NnNhEIiKCbx2g_ibPyvfELU9gBn7t._uFVRX12QqGFFmuMoEDOFLLNMZ_MJgcgqpKAa7hWyVrWp9LL6X5djqyaZltb95i45qEAKungBPGpjQ05Y2GYefFmGQKUhRp_fhG4HiXA7lnianl9.w.Z.y5pe3N4JD5py7N8Sb2F4gVV572jwZfITGfFJQh1V7A1SGGEgsMLj12RiuFOfRWxgYzQ19dRppNAbm57BTxT_8EHo8PufVoEP.W6CuSkqC1zVDgCSp3QixDivwMMFb5zC1oVWqN0Lv1KpEGow9aZR_1F8qE6HKvRjKQpB.FM6ZbC6EU8NUtGVPp4Pwmd9KfoQOMYFEFC6pFxUvrmqkcW2wQh72MTETULCzQfkftD90ONSJ7vPuJyvL4VlLc91h1ZOtqFbvQKuLJ7d_TQTNc33bbWqsg8BawfDmwM_ZfVhfrj4OR6NUwQ1A1VXXmZeZ5rYERc4nA1JX.pXKpHRioMU0fxULHU5_GYoE_HHx0Gigx1.kVi82OYBVApE7Rw_I7HnRdhKU8hTaGVh_e1GpoaW.MJVKWfr9xV_ycEjKKEHOYYlo8ATHSxU5ixQW8M2M57HLEuP24wMScsc5Vws0qWb.AnImxcijqI4ApXsejfUy0zbpEl3lH86sZPeuUoz0KjYmVLParpxrbbOHun81emnl.JtueRTZM21XjMTjNcHPyxpSRJ.UFsyEMotop50Vl83N3ASrXtpeoFHXsyDrU_aLCv8ob8mGfprhK1iJZLPcrwPg89HSLmqX_vU203W4EQTVl..x0IFWTH0bJqWU8hOROs5Rim2fLxLJSJrgTuPA87A4OkRmT03P7D62Rl.dr8betoTnYcli94W43RLCIcWhiRznEWcfij8Ux3QZ0Njpx0U0zTAuyNDtzN0OQyhSyRTfTl1EyJ5sNGkxukg2lUtljFD0SASJl_nmg1YoPl1VFTQYp__3FljR.tB.DgdkRVWmojp5nfvzLl7rVVMtjmvb4Fc0lLB2pluNbi84Yo7VH1sdvofUwx6kt.PU5mvh7K7VQ2hDTs0D7nB.gmDYWZaXkDGQLsC1hL3jWs6A.A6NJzZ_89vCtZ0zPKoqxcfkA_fXx_1N6HfigpJHZZHKqr.3_AJp7YLZyDMvCamj4sb8qgOPTlNfxWFnjli7BgFlLgZsP2G.6QaHFtlsKYSM7SvM35.vg332IOU7Uj8boaHsC2ceCcJXpA2FzeFnVL1oL70f0q9HupL9DmiTMJG42NFf4tLlr2H9W_HizfuVJZt8ZOIbXve25AJTgeeFGG9VKY4.FzbZZXcG0z0unwrumTBKQINd8MMMLFvo_G_nZkVcBowxzrnIBnGZx6GiizYD1G_mh_WKZnu9rMhDGK8SeaEBBhWAOhnIrJLIoHqWl.dnXwh.vh1jnCGVNSw_zeVCbozmd79MyU4Z6XLUCUUtG7ustJj_ibzVq8rZKJ7.Vv1a1NvkgObnddYF8me3vG.adXgoGrqWzCK9AqajML5mUHpNLp5ITxxzdYBUjODDEemphM24.jB0rPhImNeqx_FYi2wijhHdtlSlbzpy2d3hF71fD.ypegKxBmWXzV5JkG2eCcmGxPQC539uwmP6dVK3ofkBwhRo.aI.Rqp6ZwWWT50O4l0KnWXiirHsFj8eU0ELnJOG_9gtdGWDC8z69j6H6wkX.3j_kkS_2dsM3SVVy79AKyQ6C2FQ.l9azdUV5zkfm3kvsh0d5.1QrscjXJlujO.itUXX5ZOe6CK5scbLmnE4bNLmG9VFaWMqgjSyBx8TTugRcdtqNHoZmTU7aW0Eq70hBkQPUYizM8zzLjs39S4hk.3389ghVEKRALDt6Pi4fzX8kw8HLZXglc0veObt5ZPzhVmsKcorfF6bboa5w4qj241sFjY3eIvZBJU_rbW9002uG_5tk3HF_nlZZjAClMdSmLCuhPlMoZc_em6Oo6USRCIfm9PuaN2epsns6ukWGPQd9tTo.JVFwPEEqR4QrApYtRuLNd9z42LxOknBdyIBJ3_nd96vY.lZrrUumFsCKovy38KSqSxh1FQw.ajuPzgxUY_p3jfRH6d2BHZ5UagdlVfBQ\"};var cpo = document.createElement(\\'script\\');cpo.src = \\'/cdn-cgi/challenge-platform/h/b/orchestrate/chl_page/v1?ray=918eab856ec68bbc\\';window._cf_chl_opt.cOgUHash = location.hash === \\'\\' && location.href.indexOf(\\'#\\') !== -1 ? \\'#\\' : location.hash;window._cf_chl_opt.cOgUQuery = location.search === \\'\\' && location.href.slice(0, location.href.length - window._cf_chl_opt.cOgUHash.length).indexOf(\\'?\\') !== -1 ? \\'?\\' : location.search;if (window.history && window.history.replaceState) {var ogU = location.pathname + window._cf_chl_opt.cOgUQuery + window._cf_chl_opt.cOgUHash;history.replaceState(null, null, \"\\\\/vehicle\\\\/3494097?refSource=srp&__cf_chl_rt_tk=JDMMde.fMN8IA3eZdqe._AMBRNadAuZZh9vhsvnhpO4-1740727414-1.0.1.1-9P3Ifq3haCMdHBlfmQGNWLaQ8uUlmnBHT4zlknaOqCE\" + window._cf_chl_opt.cOgUHash);cpo.onload = function() {history.replaceState(null, null, ogU);}}document.getElementsByTagName(\\'head\\')[0].appendChild(cpo);}());</script></body></html>'"
            ],
            "application/vnd.google.colaboratory.intrinsic+json": {
              "type": "string"
            }
          },
          "metadata": {},
          "execution_count": 8
        }
      ]
    },
    {
      "cell_type": "code",
      "source": [],
      "metadata": {
        "id": "0A7ATj_YcJgC"
      },
      "execution_count": null,
      "outputs": []
    }
  ]
}