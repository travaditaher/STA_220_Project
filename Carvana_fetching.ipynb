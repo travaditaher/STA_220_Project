{
  "nbformat": 4,
  "nbformat_minor": 0,
  "metadata": {
    "colab": {
      "provenance": []
    },
    "kernelspec": {
      "name": "python3",
      "display_name": "Python 3"
    },
    "language_info": {
      "name": "python"
    }
  },
  "cells": [
    {
      "cell_type": "code",
      "source": [
        "!curl ipecho.net/plain"
      ],
      "metadata": {
        "colab": {
          "base_uri": "https://localhost:8080/"
        },
        "id": "olR7wSUxEuES",
        "outputId": "5bb63cee-4525-4836-9326-cac4708858fd"
      },
      "execution_count": 1,
      "outputs": [
        {
          "output_type": "stream",
          "name": "stdout",
          "text": [
            "34.106.88.226"
          ]
        }
      ]
    },
    {
      "cell_type": "code",
      "source": [
        "import pandas as pd\n",
        "import requests\n",
        "import json\n",
        "import time\n",
        "import csv"
      ],
      "metadata": {
        "id": "tNiFLZgpQ4QZ"
      },
      "execution_count": 2,
      "outputs": []
    },
    {
      "cell_type": "code",
      "source": [
        "# Load the Excel file\n",
        "file_name = 'Zips.xlsx'\n",
        "\n",
        "# Read the Excel file into a pandas DataFrame\n",
        "df = pd.read_excel(file_name, dtype={'ZipCode': str})\n",
        "\n",
        "# Check if the 'zipCode' column exists in the DataFrame\n",
        "if 'ZipCode' not in df.columns:\n",
        "    raise ValueError(\"The 'ZipCode' column was not found in the Excel file.\")\n",
        "\n",
        "# Extract the 'ZipCode' column\n",
        "zip_codes = df['ZipCode'].dropna().tolist()\n",
        "\n",
        "# Create chunks of 10 zip codes each\n",
        "chunk_size = 10\n",
        "chunks = [zip_codes[i:i + chunk_size] for i in range(0, len(zip_codes), chunk_size)]\n",
        "\n",
        "# Print the list of 10-zip code chunks\n",
        "for i, chunk in enumerate(chunks, start=1):\n",
        "    print(f\"Chunk {i}: {chunk}\")"
      ],
      "metadata": {
        "colab": {
          "base_uri": "https://localhost:8080/"
        },
        "id": "eMBSBjRp297M",
        "outputId": "ae0d1402-9e34-4a23-f6f0-33a9c61ec4f3"
      },
      "execution_count": null,
      "outputs": [
        {
          "output_type": "stream",
          "name": "stdout",
          "text": [
            "Chunk 1: ['90011', '92154', '95213', '94112', '93722', '95823', '90805', '94601', '93309', '92805']\n",
            "Chunk 2: ['02124', '01604', '01109', '02139', '01852', '02301', '01902', '02169', '02704', '02720']\n",
            "Chunk 3: ['97206', '97402', '97301', '97080', '97124', '97702', '97008', '97504', '97330', '97477']\n",
            "Chunk 4: ['77036', '78251', '75217', '78745', '76244', '79936', '76010', '78414', '75025', '79424']\n",
            "Chunk 5: ['32218', '33125', '33647', '32811', '33710', '34953', '33914', '33012', '32304', '33312']\n",
            "Chunk 6: ['30318', '30901', '31907', '31201', '31419', '30601', '30268', '30328', '30075', '31088']\n"
          ]
        }
      ]
    },
    {
      "cell_type": "code",
      "source": [
        "chunks[1]"
      ],
      "metadata": {
        "colab": {
          "base_uri": "https://localhost:8080/"
        },
        "id": "DaxLljAqaUYT",
        "outputId": "4807f186-5d41-4f70-b8d5-ade1c2c529f2"
      },
      "execution_count": null,
      "outputs": [
        {
          "output_type": "execute_result",
          "data": {
            "text/plain": [
              "['02124',\n",
              " '01604',\n",
              " '01109',\n",
              " '02139',\n",
              " '01852',\n",
              " '02301',\n",
              " '01902',\n",
              " '02169',\n",
              " '02704',\n",
              " '02720']"
            ]
          },
          "metadata": {},
          "execution_count": 4
        }
      ]
    },
    {
      "cell_type": "markdown",
      "source": [
        "##1st time fetching"
      ],
      "metadata": {
        "id": "mZWglYUCvkjg"
      }
    },
    {
      "cell_type": "code",
      "execution_count": null,
      "metadata": {
        "colab": {
          "base_uri": "https://localhost:8080/",
          "height": 349
        },
        "id": "2t3jSm_6EpRt",
        "outputId": "551de30a-bdff-420a-b25b-f9d9c168934a"
      },
      "outputs": [
        {
          "output_type": "stream",
          "name": "stdout",
          "text": [
            "Fetching vehicles for zip code 30318\n"
          ]
        },
        {
          "output_type": "error",
          "ename": "KeyboardInterrupt",
          "evalue": "",
          "traceback": [
            "\u001b[0;31m---------------------------------------------------------------------------\u001b[0m",
            "\u001b[0;31mKeyboardInterrupt\u001b[0m                         Traceback (most recent call last)",
            "\u001b[0;32m<ipython-input-10-45d92f8e9bc6>\u001b[0m in \u001b[0;36m<cell line: 0>\u001b[0;34m()\u001b[0m\n\u001b[1;32m    107\u001b[0m \u001b[0;32mfor\u001b[0m \u001b[0mzip_code\u001b[0m \u001b[0;32min\u001b[0m \u001b[0mzip_codes\u001b[0m\u001b[0;34m:\u001b[0m\u001b[0;34m\u001b[0m\u001b[0;34m\u001b[0m\u001b[0m\n\u001b[1;32m    108\u001b[0m     \u001b[0mprint\u001b[0m\u001b[0;34m(\u001b[0m\u001b[0;34mf\"Fetching vehicles for zip code {zip_code}\"\u001b[0m\u001b[0;34m)\u001b[0m\u001b[0;34m\u001b[0m\u001b[0;34m\u001b[0m\u001b[0m\n\u001b[0;32m--> 109\u001b[0;31m     \u001b[0mfetch_vehicles\u001b[0m\u001b[0;34m(\u001b[0m\u001b[0mzip_code\u001b[0m\u001b[0;34m)\u001b[0m\u001b[0;34m\u001b[0m\u001b[0;34m\u001b[0m\u001b[0m\n\u001b[0m\u001b[1;32m    110\u001b[0m \u001b[0;34m\u001b[0m\u001b[0m\n\u001b[1;32m    111\u001b[0m \u001b[0;31m# Write the collected vehicle data to a CSV file\u001b[0m\u001b[0;34m\u001b[0m\u001b[0;34m\u001b[0m\u001b[0m\n",
            "\u001b[0;32m<ipython-input-10-45d92f8e9bc6>\u001b[0m in \u001b[0;36mfetch_vehicles\u001b[0;34m(zip_code)\u001b[0m\n\u001b[1;32m     98\u001b[0m \u001b[0;34m\u001b[0m\u001b[0m\n\u001b[1;32m     99\u001b[0m         \u001b[0;31m# Sleep to avoid hitting rate limits\u001b[0m\u001b[0;34m\u001b[0m\u001b[0;34m\u001b[0m\u001b[0m\n\u001b[0;32m--> 100\u001b[0;31m         \u001b[0mtime\u001b[0m\u001b[0;34m.\u001b[0m\u001b[0msleep\u001b[0m\u001b[0;34m(\u001b[0m\u001b[0;36m2\u001b[0m\u001b[0;34m)\u001b[0m\u001b[0;34m\u001b[0m\u001b[0;34m\u001b[0m\u001b[0m\n\u001b[0m\u001b[1;32m    101\u001b[0m \u001b[0;34m\u001b[0m\u001b[0m\n\u001b[1;32m    102\u001b[0m     \u001b[0;31m# Calculate the total number of unique vehicles fetched for this zip code\u001b[0m\u001b[0;34m\u001b[0m\u001b[0;34m\u001b[0m\u001b[0m\n",
            "\u001b[0;31mKeyboardInterrupt\u001b[0m: "
          ]
        }
      ],
      "source": [
        "# Define the URL\n",
        "url = \"https://apik.carvana.io/merch/search/api/v2/search\"\n",
        "\n",
        "# Define the zip codes to fetch data for\n",
        "zip_codes = chunks[5]\n",
        "\n",
        "# Set to keep track of unique vehicles\n",
        "unique_vehicles = set()\n",
        "\n",
        "# Prepare to store vehicle data\n",
        "vehicle_data = []\n",
        "\n",
        "# Function to recursively flatten nested dictionaries\n",
        "def flatten_dict(d, parent_key='', sep='_'):\n",
        "    items = []\n",
        "    for k, v in d.items():\n",
        "        new_key = f\"{parent_key}{sep}{k}\" if parent_key else k\n",
        "        if isinstance(v, dict):\n",
        "            items.extend(flatten_dict(v, new_key, sep=sep).items())\n",
        "        elif isinstance(v, list):\n",
        "            # Convert lists to strings for CSV compatibility\n",
        "            items.append((new_key, json.dumps(v)))\n",
        "        else:\n",
        "            items.append((new_key, v))\n",
        "    return dict(items)\n",
        "\n",
        "# Collect all possible headers dynamically\n",
        "all_headers = set()\n",
        "\n",
        "# Function to fetch vehicles for a specific zip code\n",
        "def fetch_vehicles(zip_code):\n",
        "    global vehicle_data  # Declare as global to avoid NameError\n",
        "    page = 1\n",
        "    vehicles_fetched = 0\n",
        "    initial_count = len(unique_vehicles)  # Track initial count of unique vehicles\n",
        "\n",
        "    while vehicles_fetched < 50:\n",
        "        payload = {\n",
        "            \"analyticsData\": {\n",
        "                \"browser\": \"Chrome\",\n",
        "                \"clientId\": \"home_ui\",\n",
        "                \"deviceName\": \"\",\n",
        "                \"isMobileDevice\": False,\n",
        "                \"referrer\": \"\"\n",
        "            },\n",
        "            \"pagination\": {\n",
        "                \"page\": page,\n",
        "                \"pageSize\": 24\n",
        "            },\n",
        "            \"zip5\": zip_code\n",
        "        }\n",
        "\n",
        "        headers = {\n",
        "            'Content-Type': 'application/json',\n",
        "            'Accept': 'application/json, text/plain, /',\n",
        "            'Authorization': 'Bearer',\n",
        "            'Origin': 'https://www.carvana.com',\n",
        "            'Referer': 'https://www.carvana.com/',\n",
        "            'User-Agent': 'Mozilla/5.0 (Macintosh; Intel Mac OS X 10_15_7) AppleWebKit/537.36 (KHTML, like Gecko) Chrome/133.0.0.0 Safari/537.36'\n",
        "        }\n",
        "\n",
        "        response = requests.post(url, headers=headers, data=json.dumps(payload))\n",
        "\n",
        "        if response.status_code == 200:\n",
        "            response_data = response.json()\n",
        "            vehicles = response_data.get('inventory', {}).get('vehicles', [])\n",
        "\n",
        "            for vehicle in vehicles:\n",
        "                stock_number = vehicle.get('stockNumber')\n",
        "\n",
        "                if stock_number and stock_number not in unique_vehicles:\n",
        "                    unique_vehicles.add(stock_number)\n",
        "\n",
        "                    # Flatten the vehicle dictionary\n",
        "                    flat_vehicle = flatten_dict(vehicle)\n",
        "\n",
        "                    # Add the zip code field\n",
        "                    flat_vehicle[\"zip_code\"] = zip_code\n",
        "\n",
        "                    # Collect headers\n",
        "                    all_headers.update(flat_vehicle.keys())\n",
        "\n",
        "                    # Add the flattened vehicle data to the list\n",
        "                    vehicle_data.append(flat_vehicle)\n",
        "\n",
        "                    vehicles_fetched += 1\n",
        "\n",
        "        else:\n",
        "            print(f\"Failed to fetch data for zip code {zip_code} on page {page}, status code: {response.status_code}\")\n",
        "\n",
        "        # Move to the next page\n",
        "        page += 1\n",
        "\n",
        "        # Sleep to avoid hitting rate limits\n",
        "        time.sleep(2)\n",
        "\n",
        "    # Calculate the total number of unique vehicles fetched for this zip code\n",
        "    total_fetched = len(unique_vehicles) - initial_count\n",
        "    print(f\"Total vehicles fetched for zip code {zip_code}: {total_fetched}\")\n",
        "\n",
        "# Fetch vehicles for each zip code\n",
        "for zip_code in zip_codes:\n",
        "    print(f\"Fetching vehicles for zip code {zip_code}\")\n",
        "    fetch_vehicles(zip_code)\n",
        "\n",
        "# Write the collected vehicle data to a CSV file\n",
        "csv_file = open('FL_vehicles.csv', 'w', newline='', encoding='utf-8')\n",
        "csv_writer = csv.DictWriter(csv_file, fieldnames=sorted(all_headers))\n",
        "\n",
        "# Write headers and rows\n",
        "csv_writer.writeheader()\n",
        "csv_writer.writerows(vehicle_data)\n",
        "\n",
        "# Close the CSV file\n",
        "csv_file.close()\n",
        "\n",
        "print(f\"Successfully saved vehicle data for {len(unique_vehicles)} unique vehicles!\")\n"
      ]
    },
    {
      "cell_type": "markdown",
      "source": [
        "##Extracted VIN numbers"
      ],
      "metadata": {
        "id": "GczaVxZxQs96"
      }
    },
    {
      "cell_type": "code",
      "source": [
        "# Function to fetch VIN numbers from the CSV and store them in a DataFrame\n",
        "def extract_vin_from_csv(file_name):\n",
        "    try:\n",
        "        # Read the CSV file into a DataFrame\n",
        "        df = pd.read_csv(file_name)\n",
        "\n",
        "        # Check if the 'vin' column exists in the DataFrame\n",
        "        if 'vin' not in df.columns:\n",
        "            raise ValueError(\"The column 'vin' does not exist in the CSV file\")\n",
        "\n",
        "        # Extract the VIN column\n",
        "        vin_df = df[['vin']]\n",
        "\n",
        "        # Return the DataFrame containing the VIN numbers\n",
        "        return vin_df\n",
        "\n",
        "    except FileNotFoundError:\n",
        "        print(f\"Error: The file '{file_name}' was not found.\")\n",
        "        return None\n",
        "    except pd.errors.EmptyDataError:\n",
        "        print(\"Error: The file is empty.\")\n",
        "        return None\n",
        "    except Exception as e:\n",
        "        print(f\"An error occurred: {e}\")\n",
        "        return None\n",
        "\n",
        "# Specify the CSV file name\n",
        "file_name = 'unique_car_records.csv'\n",
        "\n",
        "# Extract the VIN numbers\n",
        "vin_df = extract_vin_from_csv(file_name)\n",
        "\n",
        "# Check and print the result\n",
        "if vin_df is not None:\n",
        "    print(\"VIN Numbers extracted successfully:\")\n",
        "    print(vin_df)\n"
      ],
      "metadata": {
        "id": "0ieSe1OhFoQj",
        "colab": {
          "base_uri": "https://localhost:8080/"
        },
        "outputId": "4b55f03a-4c09-47e1-9ab3-96747d464f71"
      },
      "execution_count": null,
      "outputs": [
        {
          "output_type": "stream",
          "name": "stdout",
          "text": [
            "VIN Numbers extracted successfully:\n",
            "                     vin\n",
            "0      WDBSK7BA7CF168963\n",
            "1      1C6RR6LT6JS180829\n",
            "2      1C6HJTAG5NL164399\n",
            "3      3VWC57BU6MM089869\n",
            "4      5UXCR6C51KLK80556\n",
            "...                  ...\n",
            "34669  3C4NJCAB6LT102396\n",
            "34670  KL4CJHSB9DB139488\n",
            "34671  5YJ3E1EB7PF609953\n",
            "34672  3GNKBBRA0MS557703\n",
            "34673  5J6RM3H79DL030904\n",
            "\n",
            "[34674 rows x 1 columns]\n"
          ]
        }
      ]
    },
    {
      "cell_type": "markdown",
      "source": [
        "##Refetching code"
      ],
      "metadata": {
        "id": "oW0rsOZDgGfk"
      }
    },
    {
      "cell_type": "code",
      "source": [
        "# Define the URL\n",
        "url = \"https://apik.carvana.io/merch/search/api/v2/search\"\n",
        "\n",
        "# Define the zip codes to fetch data for\n",
        "zip_codes = chunks[1]\n",
        "\n",
        "# Prepare to store vehicle data\n",
        "vehicle_data = []\n",
        "\n",
        "# Function to recursively flatten nested dictionaries\n",
        "def flatten_dict(d, parent_key='', sep='_'):\n",
        "    items = []\n",
        "    for k, v in d.items():\n",
        "        new_key = f\"{parent_key}{sep}{k}\" if parent_key else k\n",
        "        if isinstance(v, dict):\n",
        "            items.extend(flatten_dict(v, new_key, sep=sep).items())\n",
        "        elif isinstance(v, list):\n",
        "            # Convert lists to strings for CSV compatibility\n",
        "            items.append((new_key, json.dumps(v)))\n",
        "        else:\n",
        "            items.append((new_key, v))\n",
        "    return dict(items)\n",
        "\n",
        "# Collect all possible headers dynamically\n",
        "all_headers = set()\n",
        "\n",
        "# Function to fetch vehicles for a specific zip code\n",
        "def fetch_vehicles(zip_code):\n",
        "    global vehicle_data  # Declare as global to avoid NameError\n",
        "    page = 1\n",
        "    vehicles_fetched = 0\n",
        "    initial_count = len(vehicle_data)  # Track initial count of fetched vehicles\n",
        "    max_pages = 1000\n",
        "\n",
        "    while vehicles_fetched < 1000 and page <= max_pages:\n",
        "        payload = {\n",
        "            \"analyticsData\": {\n",
        "                \"browser\": \"Chrome\",\n",
        "                \"clientId\": \"home_ui\",\n",
        "                \"deviceName\": \"\",\n",
        "                \"isMobileDevice\": False,\n",
        "                \"referrer\": \"\"\n",
        "            },\n",
        "            \"pagination\": {\n",
        "                \"page\": page,\n",
        "                \"pageSize\": 24\n",
        "            },\n",
        "            \"zip5\": zip_code\n",
        "        }\n",
        "\n",
        "        headers = {\n",
        "            'Content-Type': 'application/json',\n",
        "            'Accept': 'application/json, text/plain, /',\n",
        "            'Authorization': 'Bearer',\n",
        "            'Origin': 'https://www.carvana.com',\n",
        "            'Referer': 'https://www.carvana.com/',\n",
        "            'User-Agent': 'Mozilla/5.0 (Macintosh; Intel Mac OS X 10_15_7) AppleWebKit/537.36 (KHTML, like Gecko) Chrome/133.0.0.0 Safari/537.36'\n",
        "        }\n",
        "\n",
        "        try:\n",
        "            response = requests.post(url, headers=headers, data=json.dumps(payload))\n",
        "            response.raise_for_status()  # Will raise an HTTPError for bad responses\n",
        "        except requests.exceptions.RequestException as e:\n",
        "            print(f\"Request failed for zip code {zip_code} on page {page}: {e}\")\n",
        "            break  # Stop further attempts if there's a request error\n",
        "\n",
        "        if response.status_code == 200:\n",
        "            try:\n",
        "                response_data = response.json()\n",
        "            except json.JSONDecodeError as e:\n",
        "                print(f\"Failed to decode JSON response for zip code {zip_code} on page {page}: {e}\")\n",
        "                continue  # Skip this iteration if the JSON is invalid\n",
        "\n",
        "            vehicles = response_data.get('inventory', {}).get('vehicles', [])\n",
        "\n",
        "            for vehicle in vehicles:\n",
        "                stock_number = vehicle.get('stockNumber')\n",
        "                vin = vehicle.get('vin')\n",
        "\n",
        "                if vin and vin not in vin_df['vin'].values:  # Check if VIN is not in vin_df\n",
        "                    if stock_number and stock_number not in [v['stockNumber'] for v in vehicle_data]:\n",
        "                        # Flatten the vehicle dictionary\n",
        "                        flat_vehicle = flatten_dict(vehicle)\n",
        "\n",
        "                        # Add the zip code field\n",
        "                        flat_vehicle[\"zip_code\"] = zip_code\n",
        "\n",
        "                        # Collect headers\n",
        "                        all_headers.update(flat_vehicle.keys())\n",
        "\n",
        "                        # Add the flattened vehicle data to the list\n",
        "                        vehicle_data.append(flat_vehicle)\n",
        "\n",
        "                        vehicles_fetched += 1\n",
        "                #     else:\n",
        "                #         print(f\"Skipping vehicle with stock number {stock_number} (already added).\")\n",
        "                # else:\n",
        "                #     print(f\"Skipping vehicle with VIN {vin} (already in vin_df).\")\n",
        "\n",
        "        else:\n",
        "            print(f\"Failed to fetch data for zip code {zip_code} on page {page}, status code: {response.status_code}\")\n",
        "\n",
        "        # Move to the next page\n",
        "        page += 1\n",
        "\n",
        "        # Sleep to avoid hitting rate limits\n",
        "        time.sleep(2)\n",
        "\n",
        "    # Calculate the total number of vehicles fetched for this zip code\n",
        "    total_fetched = vehicles_fetched\n",
        "    print(f\"Total vehicles fetched for zip code {zip_code}: {total_fetched}\")\n",
        "\n",
        "# Fetch vehicles for each zip code\n",
        "for zip_code in zip_codes:\n",
        "    print(f\"Fetching vehicles for zip code {zip_code}\")\n",
        "    fetch_vehicles(zip_code)\n",
        "\n",
        "# Write the collected vehicle data to a CSV file\n",
        "try:\n",
        "    with open('MA_vehicles.csv', 'w', newline='', encoding='utf-8') as csv_file:\n",
        "        csv_writer = csv.DictWriter(csv_file, fieldnames=sorted(all_headers))\n",
        "\n",
        "        # Write headers and rows\n",
        "        csv_writer.writeheader()\n",
        "        csv_writer.writerows(vehicle_data)\n",
        "    print(f\"Successfully saved vehicle data for {len(vehicle_data)} vehicles!\")\n",
        "except IOError as e:\n",
        "    print(f\"Failed to write to CSV file: {e}\")\n"
      ],
      "metadata": {
        "colab": {
          "base_uri": "https://localhost:8080/"
        },
        "id": "lwK5TFUZPFLs",
        "outputId": "cf19e11c-7980-4c05-c2bf-b9196303a1fb"
      },
      "execution_count": null,
      "outputs": [
        {
          "output_type": "stream",
          "name": "stdout",
          "text": [
            "Fetching vehicles for zip code 02124\n",
            "Total vehicles fetched for zip code 02124: 1017\n",
            "Fetching vehicles for zip code 01604\n",
            "Total vehicles fetched for zip code 01604: 1004\n",
            "Fetching vehicles for zip code 01109\n",
            "Total vehicles fetched for zip code 01109: 1012\n",
            "Fetching vehicles for zip code 02139\n",
            "Total vehicles fetched for zip code 02139: 225\n",
            "Fetching vehicles for zip code 01852\n",
            "Total vehicles fetched for zip code 01852: 57\n",
            "Fetching vehicles for zip code 02301\n",
            "Total vehicles fetched for zip code 02301: 21\n",
            "Fetching vehicles for zip code 01902\n",
            "Total vehicles fetched for zip code 01902: 8\n",
            "Fetching vehicles for zip code 02169\n",
            "Total vehicles fetched for zip code 02169: 12\n",
            "Fetching vehicles for zip code 02704\n",
            "Total vehicles fetched for zip code 02704: 1004\n",
            "Fetching vehicles for zip code 02720\n",
            "Total vehicles fetched for zip code 02720: 8\n",
            "Successfully saved vehicle data for 4368 vehicles!\n"
          ]
        }
      ]
    },
    {
      "cell_type": "markdown",
      "source": [
        "###EXTRA - Details form NHTSA API"
      ],
      "metadata": {
        "id": "WTGZkBCFlFL0"
      }
    },
    {
      "cell_type": "code",
      "source": [
        "import requests\n",
        "\n",
        "# Define the URL and payload\n",
        "url = \"https://vpic.nhtsa.dot.gov/api/vehicles/DecodeVINValuesBatch/\"\n",
        "data = {\n",
        "    'DATA': '3VV4B7AX3KM063031',  # Ensure 'vin' is defined earlier in your code\n",
        "    'format': 'JSON'\n",
        "}\n",
        "\n",
        "# Send a POST request\n",
        "try:\n",
        "    response = requests.post(url, data=data)\n",
        "    response.raise_for_status()  # Raise an exception for HTTP errors\n",
        "\n",
        "    # Parse the JSON response\n",
        "    if response.status_code == 200:\n",
        "        decoded_data = response.json()\n",
        "        print(decoded_data)\n",
        "    else:\n",
        "        print(f\"Error: {response.status_code}, {response.text}\")\n",
        "except requests.exceptions.RequestException as e:\n",
        "    print(f\"An error occurred: {e}\")\n"
      ],
      "metadata": {
        "colab": {
          "base_uri": "https://localhost:8080/"
        },
        "id": "dR1_fsfrjBti",
        "outputId": "2ce69057-adac-452a-b167-8c772f8c98f0"
      },
      "execution_count": 1,
      "outputs": [
        {
          "output_type": "stream",
          "name": "stdout",
          "text": [
            "{'Count': 1, 'Message': 'Results returned successfully. NOTE: Any missing decoded values should be interpreted as NHTSA does not have data on the specific variable. Missing value should NOT be interpreted as an indication that a feature or technology is unavailable for a vehicle.', 'SearchCriteria': '', 'Results': [{'ABS': 'Standard', 'ActiveSafetySysNote': '', 'AdaptiveCruiseControl': 'Standard', 'AdaptiveDrivingBeam': 'Standard', 'AdaptiveHeadlights': '', 'AdditionalErrorText': '', 'AirBagLocCurtain': 'All Rows', 'AirBagLocFront': '1st Row (Driver and Passenger)', 'AirBagLocKnee': '', 'AirBagLocSeatCushion': '', 'AirBagLocSide': '1st Row (Driver and Passenger)', 'AutoReverseSystem': 'Standard', 'AutomaticPedestrianAlertingSound': '', 'AxleConfiguration': '', 'Axles': '2', 'BasePrice': '37195', 'BatteryA': '', 'BatteryA_to': '', 'BatteryCells': '', 'BatteryInfo': '', 'BatteryKWh': '', 'BatteryKWh_to': '', 'BatteryModules': '', 'BatteryPacks': '', 'BatteryType': '', 'BatteryV': '', 'BatteryV_to': '', 'BedLengthIN': '', 'BedType': '', 'BlindSpotIntervention': '', 'BlindSpotMon': 'Standard', 'BodyCabType': '', 'BodyClass': 'Sport Utility Vehicle (SUV)/Multi-Purpose Vehicle (MPV)', 'BrakeSystemDesc': '', 'BrakeSystemType': '', 'BusFloorConfigType': 'Not Applicable', 'BusLength': '', 'BusType': 'Not Applicable', 'CAN_AACN': '', 'CIB': 'Standard', 'CashForClunkers': '', 'ChargerLevel': '', 'ChargerPowerKW': '', 'CoolingType': '', 'CurbWeightLB': '', 'CustomMotorcycleType': 'Not Applicable', 'DaytimeRunningLight': 'Standard', 'DestinationMarket': '', 'DisplacementCC': '2000', 'DisplacementCI': '122.0474881894', 'DisplacementL': '2', 'Doors': '4', 'DriveType': 'AWD/All-Wheel Drive', 'DriverAssist': '', 'DynamicBrakeSupport': 'Standard', 'EDR': '', 'ESC': 'Standard', 'EVDriveUnit': '', 'ElectrificationLevel': '', 'EngineConfiguration': '', 'EngineCycles': '', 'EngineCylinders': '4', 'EngineHP': '184', 'EngineHP_to': '', 'EngineKW': '', 'EngineManufacturer': 'VW', 'EngineModel': '', 'EntertainmentSystem': '', 'ErrorCode': '0', 'ErrorText': '0 - VIN decoded clean. Check Digit (9th position) is correct', 'ForwardCollisionWarning': 'Standard', 'FuelInjectionType': '', 'FuelTypePrimary': 'Gasoline', 'FuelTypeSecondary': '', 'GCWR': '', 'GCWR_to': '', 'GVWR': 'Class 1D: 5,001 - 6,000 lb (2,268 - 2,722 kg)', 'GVWR_to': '', 'KeylessIgnition': 'Standard', 'LaneCenteringAssistance': '', 'LaneDepartureWarning': '', 'LaneKeepSystem': 'Standard', 'LowerBeamHeadlampLightSource': '', 'Make': 'VOLKSWAGEN', 'MakeID': '482', 'Manufacturer': 'VOLKSWAGEN DE MEXICO SA DE CV', 'ManufacturerId': '16478', 'Model': 'Tiguan', 'ModelID': '8151', 'ModelYear': '2019', 'MotorcycleChassisType': 'Not Applicable', 'MotorcycleSuspensionType': 'Not Applicable', 'NCSABodyType': '', 'NCSAMake': '', 'NCSAMapExcApprovedBy': '', 'NCSAMapExcApprovedOn': '', 'NCSAMappingException': '', 'NCSAModel': '', 'NCSANote': '', 'NonLandUse': '', 'Note': '', 'OtherBusInfo': '', 'OtherEngineInfo': 'Emissions Certification Test Group: KVGAJ02.0A3A; Emission Standard: Tier 3 BIN 30 LEV3 SULEV30', 'OtherMotorcycleInfo': '', 'OtherRestraintSystemInfo': 'Advanced Front Air Bags  ', 'OtherTrailerInfo': '', 'ParkAssist': '', 'PedestrianAutomaticEmergencyBraking': 'Standard', 'PlantCity': 'PUEBLA', 'PlantCompanyName': '', 'PlantCountry': 'MEXICO', 'PlantState': '', 'PossibleValues': '', 'Pretensioner': '', 'RearAutomaticEmergencyBraking': '', 'RearCrossTrafficAlert': '', 'RearVisibilitySystem': 'Standard', 'SAEAutomationLevel': '', 'SAEAutomationLevel_to': '', 'SeatBeltsAll': 'Manual', 'SeatRows': '2', 'Seats': '5', 'SemiautomaticHeadlampBeamSwitching': 'Standard', 'Series': '4Motion SEL Premium, 4Motion SEL Premium R-Line', 'Series2': '', 'SteeringLocation': 'Left-Hand Drive (LHD)', 'SuggestedVIN': '', 'TPMS': 'Indirect', 'TopSpeedMPH': '', 'TrackWidth': '', 'TractionControl': 'Standard', 'TrailerBodyType': 'Not Applicable', 'TrailerLength': '', 'TrailerType': 'Not Applicable', 'TransmissionSpeeds': '8', 'TransmissionStyle': 'Automatic', 'Trim': '', 'Trim2': '', 'Turbo': '', 'VIN': '3VV4B7AX3KM063031', 'ValveTrainDesign': '', 'VehicleDescriptor': '3VV4B7AX*KM', 'VehicleType': 'MULTIPURPOSE PASSENGER VEHICLE (MPV)', 'WheelBaseLong': '', 'WheelBaseShort': '109.8', 'WheelBaseType': '', 'WheelSizeFront': '', 'WheelSizeRear': '', 'Wheels': '4', 'Windows': ''}]}\n"
          ]
        }
      ]
    },
    {
      "cell_type": "code",
      "source": [
        "import json\n",
        "# Pretty-print the JSON data\n",
        "print(json.dumps(decoded_data, indent=4))"
      ],
      "metadata": {
        "colab": {
          "base_uri": "https://localhost:8080/"
        },
        "id": "oDnff5ZwjIXE",
        "outputId": "46950d4b-1f14-4219-9f75-03b857a82121"
      },
      "execution_count": 3,
      "outputs": [
        {
          "output_type": "stream",
          "name": "stdout",
          "text": [
            "{\n",
            "    \"Count\": 1,\n",
            "    \"Message\": \"Results returned successfully. NOTE: Any missing decoded values should be interpreted as NHTSA does not have data on the specific variable. Missing value should NOT be interpreted as an indication that a feature or technology is unavailable for a vehicle.\",\n",
            "    \"SearchCriteria\": \"\",\n",
            "    \"Results\": [\n",
            "        {\n",
            "            \"ABS\": \"Standard\",\n",
            "            \"ActiveSafetySysNote\": \"\",\n",
            "            \"AdaptiveCruiseControl\": \"Standard\",\n",
            "            \"AdaptiveDrivingBeam\": \"Standard\",\n",
            "            \"AdaptiveHeadlights\": \"\",\n",
            "            \"AdditionalErrorText\": \"\",\n",
            "            \"AirBagLocCurtain\": \"All Rows\",\n",
            "            \"AirBagLocFront\": \"1st Row (Driver and Passenger)\",\n",
            "            \"AirBagLocKnee\": \"\",\n",
            "            \"AirBagLocSeatCushion\": \"\",\n",
            "            \"AirBagLocSide\": \"1st Row (Driver and Passenger)\",\n",
            "            \"AutoReverseSystem\": \"Standard\",\n",
            "            \"AutomaticPedestrianAlertingSound\": \"\",\n",
            "            \"AxleConfiguration\": \"\",\n",
            "            \"Axles\": \"2\",\n",
            "            \"BasePrice\": \"37195\",\n",
            "            \"BatteryA\": \"\",\n",
            "            \"BatteryA_to\": \"\",\n",
            "            \"BatteryCells\": \"\",\n",
            "            \"BatteryInfo\": \"\",\n",
            "            \"BatteryKWh\": \"\",\n",
            "            \"BatteryKWh_to\": \"\",\n",
            "            \"BatteryModules\": \"\",\n",
            "            \"BatteryPacks\": \"\",\n",
            "            \"BatteryType\": \"\",\n",
            "            \"BatteryV\": \"\",\n",
            "            \"BatteryV_to\": \"\",\n",
            "            \"BedLengthIN\": \"\",\n",
            "            \"BedType\": \"\",\n",
            "            \"BlindSpotIntervention\": \"\",\n",
            "            \"BlindSpotMon\": \"Standard\",\n",
            "            \"BodyCabType\": \"\",\n",
            "            \"BodyClass\": \"Sport Utility Vehicle (SUV)/Multi-Purpose Vehicle (MPV)\",\n",
            "            \"BrakeSystemDesc\": \"\",\n",
            "            \"BrakeSystemType\": \"\",\n",
            "            \"BusFloorConfigType\": \"Not Applicable\",\n",
            "            \"BusLength\": \"\",\n",
            "            \"BusType\": \"Not Applicable\",\n",
            "            \"CAN_AACN\": \"\",\n",
            "            \"CIB\": \"Standard\",\n",
            "            \"CashForClunkers\": \"\",\n",
            "            \"ChargerLevel\": \"\",\n",
            "            \"ChargerPowerKW\": \"\",\n",
            "            \"CoolingType\": \"\",\n",
            "            \"CurbWeightLB\": \"\",\n",
            "            \"CustomMotorcycleType\": \"Not Applicable\",\n",
            "            \"DaytimeRunningLight\": \"Standard\",\n",
            "            \"DestinationMarket\": \"\",\n",
            "            \"DisplacementCC\": \"2000\",\n",
            "            \"DisplacementCI\": \"122.0474881894\",\n",
            "            \"DisplacementL\": \"2\",\n",
            "            \"Doors\": \"4\",\n",
            "            \"DriveType\": \"AWD/All-Wheel Drive\",\n",
            "            \"DriverAssist\": \"\",\n",
            "            \"DynamicBrakeSupport\": \"Standard\",\n",
            "            \"EDR\": \"\",\n",
            "            \"ESC\": \"Standard\",\n",
            "            \"EVDriveUnit\": \"\",\n",
            "            \"ElectrificationLevel\": \"\",\n",
            "            \"EngineConfiguration\": \"\",\n",
            "            \"EngineCycles\": \"\",\n",
            "            \"EngineCylinders\": \"4\",\n",
            "            \"EngineHP\": \"184\",\n",
            "            \"EngineHP_to\": \"\",\n",
            "            \"EngineKW\": \"\",\n",
            "            \"EngineManufacturer\": \"VW\",\n",
            "            \"EngineModel\": \"\",\n",
            "            \"EntertainmentSystem\": \"\",\n",
            "            \"ErrorCode\": \"0\",\n",
            "            \"ErrorText\": \"0 - VIN decoded clean. Check Digit (9th position) is correct\",\n",
            "            \"ForwardCollisionWarning\": \"Standard\",\n",
            "            \"FuelInjectionType\": \"\",\n",
            "            \"FuelTypePrimary\": \"Gasoline\",\n",
            "            \"FuelTypeSecondary\": \"\",\n",
            "            \"GCWR\": \"\",\n",
            "            \"GCWR_to\": \"\",\n",
            "            \"GVWR\": \"Class 1D: 5,001 - 6,000 lb (2,268 - 2,722 kg)\",\n",
            "            \"GVWR_to\": \"\",\n",
            "            \"KeylessIgnition\": \"Standard\",\n",
            "            \"LaneCenteringAssistance\": \"\",\n",
            "            \"LaneDepartureWarning\": \"\",\n",
            "            \"LaneKeepSystem\": \"Standard\",\n",
            "            \"LowerBeamHeadlampLightSource\": \"\",\n",
            "            \"Make\": \"VOLKSWAGEN\",\n",
            "            \"MakeID\": \"482\",\n",
            "            \"Manufacturer\": \"VOLKSWAGEN DE MEXICO SA DE CV\",\n",
            "            \"ManufacturerId\": \"16478\",\n",
            "            \"Model\": \"Tiguan\",\n",
            "            \"ModelID\": \"8151\",\n",
            "            \"ModelYear\": \"2019\",\n",
            "            \"MotorcycleChassisType\": \"Not Applicable\",\n",
            "            \"MotorcycleSuspensionType\": \"Not Applicable\",\n",
            "            \"NCSABodyType\": \"\",\n",
            "            \"NCSAMake\": \"\",\n",
            "            \"NCSAMapExcApprovedBy\": \"\",\n",
            "            \"NCSAMapExcApprovedOn\": \"\",\n",
            "            \"NCSAMappingException\": \"\",\n",
            "            \"NCSAModel\": \"\",\n",
            "            \"NCSANote\": \"\",\n",
            "            \"NonLandUse\": \"\",\n",
            "            \"Note\": \"\",\n",
            "            \"OtherBusInfo\": \"\",\n",
            "            \"OtherEngineInfo\": \"Emissions Certification Test Group: KVGAJ02.0A3A; Emission Standard: Tier 3 BIN 30 LEV3 SULEV30\",\n",
            "            \"OtherMotorcycleInfo\": \"\",\n",
            "            \"OtherRestraintSystemInfo\": \"Advanced Front Air Bags  \",\n",
            "            \"OtherTrailerInfo\": \"\",\n",
            "            \"ParkAssist\": \"\",\n",
            "            \"PedestrianAutomaticEmergencyBraking\": \"Standard\",\n",
            "            \"PlantCity\": \"PUEBLA\",\n",
            "            \"PlantCompanyName\": \"\",\n",
            "            \"PlantCountry\": \"MEXICO\",\n",
            "            \"PlantState\": \"\",\n",
            "            \"PossibleValues\": \"\",\n",
            "            \"Pretensioner\": \"\",\n",
            "            \"RearAutomaticEmergencyBraking\": \"\",\n",
            "            \"RearCrossTrafficAlert\": \"\",\n",
            "            \"RearVisibilitySystem\": \"Standard\",\n",
            "            \"SAEAutomationLevel\": \"\",\n",
            "            \"SAEAutomationLevel_to\": \"\",\n",
            "            \"SeatBeltsAll\": \"Manual\",\n",
            "            \"SeatRows\": \"2\",\n",
            "            \"Seats\": \"5\",\n",
            "            \"SemiautomaticHeadlampBeamSwitching\": \"Standard\",\n",
            "            \"Series\": \"4Motion SEL Premium, 4Motion SEL Premium R-Line\",\n",
            "            \"Series2\": \"\",\n",
            "            \"SteeringLocation\": \"Left-Hand Drive (LHD)\",\n",
            "            \"SuggestedVIN\": \"\",\n",
            "            \"TPMS\": \"Indirect\",\n",
            "            \"TopSpeedMPH\": \"\",\n",
            "            \"TrackWidth\": \"\",\n",
            "            \"TractionControl\": \"Standard\",\n",
            "            \"TrailerBodyType\": \"Not Applicable\",\n",
            "            \"TrailerLength\": \"\",\n",
            "            \"TrailerType\": \"Not Applicable\",\n",
            "            \"TransmissionSpeeds\": \"8\",\n",
            "            \"TransmissionStyle\": \"Automatic\",\n",
            "            \"Trim\": \"\",\n",
            "            \"Trim2\": \"\",\n",
            "            \"Turbo\": \"\",\n",
            "            \"VIN\": \"3VV4B7AX3KM063031\",\n",
            "            \"ValveTrainDesign\": \"\",\n",
            "            \"VehicleDescriptor\": \"3VV4B7AX*KM\",\n",
            "            \"VehicleType\": \"MULTIPURPOSE PASSENGER VEHICLE (MPV)\",\n",
            "            \"WheelBaseLong\": \"\",\n",
            "            \"WheelBaseShort\": \"109.8\",\n",
            "            \"WheelBaseType\": \"\",\n",
            "            \"WheelSizeFront\": \"\",\n",
            "            \"WheelSizeRear\": \"\",\n",
            "            \"Wheels\": \"4\",\n",
            "            \"Windows\": \"\"\n",
            "        }\n",
            "    ]\n",
            "}\n"
          ]
        }
      ]
    }
  ]
}